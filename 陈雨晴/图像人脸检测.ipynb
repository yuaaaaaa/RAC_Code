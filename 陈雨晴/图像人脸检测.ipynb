{
 "cells": [
  {
   "cell_type": "code",
   "execution_count": 1,
   "metadata": {},
   "outputs": [
    {
     "ename": "FileNotFoundError",
     "evalue": "[Errno 2] No such file or directory: '/Users/chenyuqing/Desktop/face_image '",
     "output_type": "error",
     "traceback": [
      "\u001b[0;31m---------------------------------------------------------------------------\u001b[0m",
      "\u001b[0;31mFileNotFoundError\u001b[0m                         Traceback (most recent call last)",
      "\u001b[0;32m<ipython-input-1-a8434a7c5c18>\u001b[0m in \u001b[0;36m<module>\u001b[0;34m\u001b[0m\n\u001b[1;32m      8\u001b[0m \u001b[0mtotal_image_name\u001b[0m \u001b[0;34m=\u001b[0m \u001b[0;34m[\u001b[0m\u001b[0;34m]\u001b[0m\u001b[0;34m\u001b[0m\u001b[0;34m\u001b[0m\u001b[0m\n\u001b[1;32m      9\u001b[0m \u001b[0mtotal_face_encoding\u001b[0m \u001b[0;34m=\u001b[0m \u001b[0;34m[\u001b[0m\u001b[0;34m]\u001b[0m\u001b[0;34m\u001b[0m\u001b[0;34m\u001b[0m\u001b[0m\n\u001b[0;32m---> 10\u001b[0;31m \u001b[0;32mfor\u001b[0m \u001b[0mfn\u001b[0m \u001b[0;32min\u001b[0m \u001b[0mos\u001b[0m\u001b[0;34m.\u001b[0m\u001b[0mlistdir\u001b[0m\u001b[0;34m(\u001b[0m\u001b[0mpath\u001b[0m\u001b[0;34m)\u001b[0m\u001b[0;34m:\u001b[0m  \u001b[0;31m#fn 表示的是文件名q\u001b[0m\u001b[0;34m\u001b[0m\u001b[0;34m\u001b[0m\u001b[0m\n\u001b[0m\u001b[1;32m     11\u001b[0m     \u001b[0mprint\u001b[0m\u001b[0;34m(\u001b[0m\u001b[0mpath\u001b[0m \u001b[0;34m+\u001b[0m \u001b[0;34m\"/\"\u001b[0m \u001b[0;34m+\u001b[0m \u001b[0mfn\u001b[0m\u001b[0;34m)\u001b[0m\u001b[0;34m\u001b[0m\u001b[0;34m\u001b[0m\u001b[0m\n\u001b[1;32m     12\u001b[0m     total_face_encoding.append(\n",
      "\u001b[0;31mFileNotFoundError\u001b[0m: [Errno 2] No such file or directory: '/Users/chenyuqing/Desktop/face_image '"
     ]
    }
   ],
   "source": [
    "#人脸识别类 - 使用face_recognition模块\n",
    "import cv2\n",
    "import face_recognition\n",
    "import os\n",
    "\n",
    "path = \"/Users/chenyuqing/Desktop/face_image \"  # 模型数据图片目录\n",
    "cap = cv2.VideoCapture(0)\n",
    "total_image_name = []\n",
    "total_face_encoding = []\n",
    "for fn in os.listdir(path):  #fn 表示的是文件名q\n",
    "    print(path + \"/\" + fn)\n",
    "    total_face_encoding.append(\n",
    "        face_recognition.face_encodings(\n",
    "            face_recognition.load_image_file(path + \"/\" + fn))[0])\n",
    "    fn = fn[:(len(fn) - 4)]  #截取图片名（这里应该把images文件中的图片名命名为为人物名）\n",
    "    total_image_name.append(fn)  #图片名字列表\n",
    "while (1):\n",
    "    ret, frame = cap.read()\n",
    "    # 发现在视频帧所有的脸和face_enqcodings\n",
    "    face_locations = face_recognition.face_locations(frame)\n",
    "    face_encodings = face_recognition.face_encodings(frame, face_locations)\n",
    "    # 在这个视频帧中循环遍历每个人脸\n",
    "    for (top, right, bottom, left), face_encoding in zip(\n",
    "            face_locations, face_encodings):\n",
    "        # 看看面部是否与已知人脸相匹配。\n",
    "        for i, v in enumerate(total_face_encoding):\n",
    "            match = face_recognition.compare_faces(\n",
    "                [v], face_encoding, tolerance=0.5)\n",
    "            name = \"Unknown\"\n",
    "            if match[0]:\n",
    "                name = total_image_name[i]\n",
    "                break\n",
    "        # 画出一个框，框住脸\n",
    "        cv2.rectangle(frame, (left, top), (right, bottom), (0, 0, 255), 2)\n",
    "        # 画出一个带名字的标签，放在框下\n",
    "        cv2.rectangle(frame, (left, bottom - 35), (right, bottom), (0, 0, 255),\n",
    "                      cv2.FILLED)\n",
    "        font = cv2.FONT_HERSHEY_DUPLEX\n",
    "        cv2.putText(frame, name, (left + 6, bottom - 6), font, 1.0,\n",
    "                    (255, 255, 255), 1)\n",
    "    # 显示结果图像\n",
    "    cv2.imshow('Video', frame)\n",
    "    if cv2.waitKey(1) & 0xFF == ord('q'):\n",
    "        break\n",
    "\n",
    "cap.release()\n",
    "cv2.destroyAllWindows()"
   ]
  },
  {
   "cell_type": "code",
   "execution_count": null,
   "metadata": {},
   "outputs": [],
   "source": []
  }
 ],
 "metadata": {
  "kernelspec": {
   "display_name": "Python 3",
   "language": "python",
   "name": "python3"
  },
  "language_info": {
   "codemirror_mode": {
    "name": "ipython",
    "version": 3
   },
   "file_extension": ".py",
   "mimetype": "text/x-python",
   "name": "python",
   "nbconvert_exporter": "python",
   "pygments_lexer": "ipython3",
   "version": "3.7.4"
  }
 },
 "nbformat": 4,
 "nbformat_minor": 2
}
