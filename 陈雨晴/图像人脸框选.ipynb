{
 "cells": [
  {
   "cell_type": "markdown",
   "metadata": {},
   "source": [
    "图像人脸框选"
   ]
  },
  {
   "cell_type": "code",
   "execution_count": null,
   "metadata": {},
   "outputs": [],
   "source": [
    "import cv2\n",
    "\n",
    "\n",
    "# 图片识别方法封装\n",
    "def discern(img):\n",
    "    pathf = '/Users/chenyuqing/opencv/data/haarcascades/haarcascade_frontalface_default.xml'\n",
    "    gray = cv2.cvtColor(img, cv2.COLOR_BGR2GRAY)\n",
    "    face_cascade = cv2.CascadeClassifier(pathf)\n",
    "    faceRects = face_cascade.detectMultiScale(gray, scaleFactor=1.2, minNeighbors=3, minSize=(50, 50))\n",
    "    if len(faceRects):\n",
    "        for faceRect in faceRects:\n",
    "            x, y, w, h = faceRect\n",
    "            cv2.rectangle(img, (x, y), (x + h, y + w), (0, 255, 0), 2)  # 框出人脸\n",
    "    cv2.imshow(\"Image\", img)\n",
    "\n",
    "\n",
    "# 获取摄像头0表示第一个摄像头\n",
    "cap = cv2.VideoCapture(0)\n",
    "while (1):  # 逐帧显示\n",
    "    ret, img = cap.read()\n",
    "    # cv2.imshow(\"Image\", img)\n",
    "    discern(img)\n",
    "    if cv2.waitKey(1) & 0xFF == ord('q'):\n",
    "        break\n",
    "cap.release()  # 释放摄像头\n",
    "cv2.destroyAllWindows()  # 释放窗口资源\n"
   ]
  },
  {
   "cell_type": "code",
   "execution_count": null,
   "metadata": {},
   "outputs": [],
   "source": [
    "https://github.com/opencv/opencv.git"
   ]
  }
 ],
 "metadata": {
  "kernelspec": {
   "display_name": "Python 3",
   "language": "python",
   "name": "python3"
  },
  "language_info": {
   "codemirror_mode": {
    "name": "ipython",
    "version": 3
   },
   "file_extension": ".py",
   "mimetype": "text/x-python",
   "name": "python",
   "nbconvert_exporter": "python",
   "pygments_lexer": "ipython3",
   "version": "3.7.4"
  }
 },
 "nbformat": 4,
 "nbformat_minor": 2
}
