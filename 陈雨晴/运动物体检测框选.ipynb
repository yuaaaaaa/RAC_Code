{
 "cells": [
  {
   "cell_type": "code",
   "execution_count": null,
   "metadata": {},
   "outputs": [],
   "source": [
    "import cv2\n",
    "import numpy as np"
   ]
  },
  {
   "cell_type": "code",
   "execution_count": null,
   "metadata": {},
   "outputs": [],
   "source": [
    "import cv2\n",
    "import numpy as np\n",
    "#读取视频流\n",
    "cap = cv2.VideoCapture(0)\n",
    "firstFrame = None\n",
    "countflag = 0\n",
    "#设置视频参数\n",
    "#cap.set(3, 480)\n",
    "def discern(img):\n",
    "    pathf = '/Users/chenyuqing/opencv/data/haarcascades/haarcascade_frontalface_default.xml'\n",
    "    gray = cv2.cvtColor(img, cv2.COLOR_BGR2GRAY)\n",
    "    face_cascade = cv2.CascadeClassifier(pathf)\n",
    "    faceRects = face_cascade.detectMultiScale(gray, scaleFactor=1.2, minNeighbors=3, minSize=(50, 50))\n",
    "    if len(faceRects):\n",
    "        for faceRect in faceRects:\n",
    "            x, y, w, h = faceRect\n",
    "            cv2.rectangle(img, (x, y), (x + h, y + w), (0, 255, 0), 2)  # 框出人脸\n",
    "    cv2.imshow(\"Image\", img)\n",
    "\n",
    "\n",
    "if cap.isOpened():\n",
    "    while(True):\n",
    "        countflag += 1\n",
    "        ret, frame = cap.read()\n",
    "        #没有抓到第一帧那么说明到了视频结尾\n",
    "        if not ret:\n",
    "            break\n",
    "        #调整帧的大小，转换为灰度图像进行高斯模糊\n",
    "        framev = cv2.resize(frame, (640, 360))\n",
    "        frame = cv2.resize(frame, (640, 360), interpolation=cv2.INTER_CUBIC)\n",
    "        gray = cv2.cvtColor(frame, cv2.COLOR_BGR2GRAY)\n",
    "        gray = cv2.GaussianBlur(gray, (21, 21), 0)\n",
    "        #如果第一帧是None， 对其初始化\n",
    "        if firstFrame is None:\n",
    "            firstFrame = gray\n",
    "            continue\n",
    "        #计算当前帧与第一帧的不同\n",
    "        frameDelta = cv2.absdiff(firstFrame, gray)\n",
    "        thresh = cv2.threshold(frameDelta, 25, 255, cv2.THRESH_BINARY)[1]\n",
    "        #扩展阀值图像填充孔洞\n",
    "        thresh = cv2.dilate(thresh, None, iterations=3)\n",
    "        contours, hierarchy = cv2.findContours(thresh.copy(), cv2.RETR_EXTERNAL, cv2.CHAIN_APPROX_SIMPLE)\n",
    "        #遍历轮廓\n",
    "        flag = 1\n",
    "        for contour in contours:\n",
    "            if cv2.contourArea(contour) < 1000: #面积阈值\n",
    "                continue\n",
    "            #计算最小外接矩形\n",
    "            x, y, w, h = cv2.boundingRect(contour)\n",
    "            cv2.rectangle(frame, (x, y), (x + w, y + h), (0, 255, 0), 2)\n",
    "            if(flag):\n",
    "                flag = 0\n",
    "                discern(framev)\n",
    "            \n",
    "        cv2.putText(frame, \"F{}\".format(frame), (20, 30), cv2.FONT_HERSHEY_SIMPLEX, 1, (0, 0, 255), 2)\n",
    "        \n",
    "        cv2.imshow('frame_with_result', frame)\n",
    "        cv2.imshow('thresh', thresh)\n",
    "        cv2.imshow('frameDiff', frameDelta)\n",
    "        if(countflag == 50):\n",
    "            countflag = 0\n",
    "            firstFrame = gray\n",
    "        #处理按键效果\n",
    "        key = cv2.waitKey(60) & 0xff\n",
    "        if key == 27:\n",
    "            break\n",
    "        elif key == ord(' '):\n",
    "            cv2.waitKey(0)\n",
    "        \n",
    "    cap.release()\n",
    "cv2.destroyAllWindows()\n",
    "        \n",
    "        "
   ]
  },
  {
   "cell_type": "code",
   "execution_count": null,
   "metadata": {},
   "outputs": [],
   "source": []
  },
  {
   "cell_type": "code",
   "execution_count": null,
   "metadata": {},
   "outputs": [],
   "source": []
  },
  {
   "cell_type": "code",
   "execution_count": null,
   "metadata": {},
   "outputs": [],
   "source": []
  }
 ],
 "metadata": {
  "kernelspec": {
   "display_name": "Python 3",
   "language": "python",
   "name": "python3"
  },
  "language_info": {
   "codemirror_mode": {
    "name": "ipython",
    "version": 3
   },
   "file_extension": ".py",
   "mimetype": "text/x-python",
   "name": "python",
   "nbconvert_exporter": "python",
   "pygments_lexer": "ipython3",
   "version": "3.7.4"
  }
 },
 "nbformat": 4,
 "nbformat_minor": 2
}
